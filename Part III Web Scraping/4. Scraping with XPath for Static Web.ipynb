{
 "cells": [
  {
   "cell_type": "markdown",
   "id": "f98c685a-b378-4a5f-9acf-49015ed6675f",
   "metadata": {},
   "source": [
    "### Get Threads"
   ]
  },
  {
   "cell_type": "code",
   "execution_count": 17,
   "id": "3d1e1a7c-4a05-4e96-bc60-f82dccd55f03",
   "metadata": {},
   "outputs": [
    {
     "data": {
      "text/plain": [
       "200"
      ]
     },
     "execution_count": 17,
     "metadata": {},
     "output_type": "execute_result"
    }
   ],
   "source": [
    "# scraping a discussion forum using requests and xpath to extract data:\n",
    "# https://debatepolitics.com/forums/2024-us-presidential-election.227/\n",
    "# 2024 US Presidential Election\n",
    "\n",
    "import requests\n",
    "from lxml import html\n",
    "\n",
    "# link to the discussion forum\n",
    "url = 'https://debatepolitics.com/forums/2024-us-presidential-election.227/'\n",
    "# request the link\n",
    "page = requests.get(url)\n",
    "# parse the html\n",
    "tree = html.fromstring(page.content)    # Converts the HTML content into a structured tree format, allowing you to navigate and extract specific elements using XPath.\n",
    "\n",
    "page.status_code"
   ]
  },
  {
   "cell_type": "code",
   "execution_count": 18,
   "id": "e764a28c-de06-4572-ab67-1fe9a46b7e61",
   "metadata": {},
   "outputs": [
    {
     "data": {
      "text/plain": [
       "['For some Latinos, ‘prosperity gospel’ led them to Trump',\n",
       " 'How the GOP is on Self-Destruct',\n",
       " \"Kamala's Been On A Drinking Binge Since Losing\",\n",
       " 'The Victory',\n",
       " 'It Must Really Suck For You People',\n",
       " 'Manifestly Unfit',\n",
       " \"Poll: 65% of Canadians agree with Trump's wish to make them the 51st state\",\n",
       " 'President Trump - Meet the Press... \"No I will not do any executive orders to limit abortion\"',\n",
       " \"Trumps fake campaign promises are falling like dominoes or cut like a drug dealer's cocaine. Election fraud is consequential & criminal.\",\n",
       " \"TRUMP RENEGES ON THE USMCA - HIS OWN ADMINISTRATION'S TRADE AGREEMENT NEGOTIATED & SIGNED IN 2020\",\n",
       " \"Trump's inaugural fund receives $1 million donation from Mark Zuckerberg's Meta\",\n",
       " 'Now It’s Panama’s Turn In the Barrel',\n",
       " 'You know its very hard. LOL',\n",
       " \"Western Kentucky Professor: Trump's victory signals that human decency is no longer an American virtue\",\n",
       " 'Fetterman slams legal cases against Trump, Hunter Biden in first Truth Social post: ‘Cases were both bulls—‘',\n",
       " 'Chip Roy On the Outside?',\n",
       " 'This Cannot Be a Possibility, Wut?',\n",
       " 'How long will President Musk tolerate Trump interference ?',\n",
       " \"RFK Jr.'s lawyer and top ally asked FDA to revoke approval of polio vaccine\",\n",
       " 'Promises Made Promises Broken']"
      ]
     },
     "execution_count": 18,
     "metadata": {},
     "output_type": "execute_result"
    }
   ],
   "source": [
    "# extract titles of all articles on the page:\n",
    "titles = tree.xpath('//div[@class=\"structItem-title\"]/a/text()')\n",
    "titles = [title.strip() for title in titles]\n",
    "titles"
   ]
  },
  {
   "cell_type": "code",
   "execution_count": 19,
   "id": "306086f8-ead7-42af-9ef0-60e3f4db20aa",
   "metadata": {},
   "outputs": [
    {
     "data": {
      "text/plain": [
       "['/threads/for-some-latinos-%E2%80%98prosperity-gospel%E2%80%99-led-them-to-trump.557926/',\n",
       " '/threads/how-the-gop-is-on-self-destruct.557954/',\n",
       " '/threads/kamalas-been-on-a-drinking-binge-since-losing.556181/',\n",
       " '/threads/the-victory.554963/',\n",
       " '/threads/it-must-really-suck-for-you-people.557448/',\n",
       " '/threads/manifestly-unfit.557682/',\n",
       " '/threads/poll-65-of-canadians-agree-with-trumps-wish-to-make-them-the-51st-state.557506/',\n",
       " '/threads/president-trump-meet-the-press-no-i-will-not-do-any-executive-orders-to-limit-abortion.556927/',\n",
       " '/threads/trumps-fake-campaign-promises-are-falling-like-dominoes-or-cut-like-a-drug-dealers-cocaine-election-fraud-is-consequential-criminal.557303/',\n",
       " '/threads/trump-reneges-on-the-usmca-his-own-administrations-trade-agreement-negotiated-signed-in-2020.557839/',\n",
       " '/threads/trumps-inaugural-fund-receives-1-million-donation-from-mark-zuckerbergs-meta.557111/',\n",
       " '/threads/now-it%E2%80%99s-panama%E2%80%99s-turn-in-the-barrel.557723/',\n",
       " '/threads/you-know-its-very-hard-lol.557147/',\n",
       " '/threads/western-kentucky-professor-trumps-victory-signals-that-human-decency-is-no-longer-an-american-virtue.556543/',\n",
       " '/threads/fetterman-slams-legal-cases-against-trump-hunter-biden-in-first-truth-social-post-%E2%80%98cases-were-both-bulls%E2%80%94%E2%80%98.557112/',\n",
       " '/threads/chip-roy-on-the-outside.557584/',\n",
       " '/threads/this-cannot-be-a-possibility-wut.557551/',\n",
       " '/threads/how-long-will-president-musk-tolerate-trump-interference.557564/',\n",
       " '/threads/rfk-jr-s-lawyer-and-top-ally-asked-fda-to-revoke-approval-of-polio-vaccine.557227/',\n",
       " '/threads/promises-made-promises-broken.557136/']"
      ]
     },
     "execution_count": 19,
     "metadata": {},
     "output_type": "execute_result"
    }
   ],
   "source": [
    "# extract urls of the titles\n",
    "urls = tree.xpath('//div[@class=\"structItem-title\"]/a/@href')\n",
    "urls = [url.strip() for url in urls]\n",
    "urls"
   ]
  },
  {
   "cell_type": "code",
   "execution_count": 20,
   "id": "230f9652-90d3-4ace-b70e-57086de7c4d0",
   "metadata": {},
   "outputs": [
    {
     "data": {
      "text/plain": [
       "['https://debatepolitics.com/threads/for-some-latinos-%E2%80%98prosperity-gospel%E2%80%99-led-them-to-trump.557926/',\n",
       " 'https://debatepolitics.com/threads/how-the-gop-is-on-self-destruct.557954/',\n",
       " 'https://debatepolitics.com/threads/kamalas-been-on-a-drinking-binge-since-losing.556181/',\n",
       " 'https://debatepolitics.com/threads/the-victory.554963/',\n",
       " 'https://debatepolitics.com/threads/it-must-really-suck-for-you-people.557448/',\n",
       " 'https://debatepolitics.com/threads/manifestly-unfit.557682/',\n",
       " 'https://debatepolitics.com/threads/poll-65-of-canadians-agree-with-trumps-wish-to-make-them-the-51st-state.557506/',\n",
       " 'https://debatepolitics.com/threads/president-trump-meet-the-press-no-i-will-not-do-any-executive-orders-to-limit-abortion.556927/',\n",
       " 'https://debatepolitics.com/threads/trumps-fake-campaign-promises-are-falling-like-dominoes-or-cut-like-a-drug-dealers-cocaine-election-fraud-is-consequential-criminal.557303/',\n",
       " 'https://debatepolitics.com/threads/trump-reneges-on-the-usmca-his-own-administrations-trade-agreement-negotiated-signed-in-2020.557839/',\n",
       " 'https://debatepolitics.com/threads/trumps-inaugural-fund-receives-1-million-donation-from-mark-zuckerbergs-meta.557111/',\n",
       " 'https://debatepolitics.com/threads/now-it%E2%80%99s-panama%E2%80%99s-turn-in-the-barrel.557723/',\n",
       " 'https://debatepolitics.com/threads/you-know-its-very-hard-lol.557147/',\n",
       " 'https://debatepolitics.com/threads/western-kentucky-professor-trumps-victory-signals-that-human-decency-is-no-longer-an-american-virtue.556543/',\n",
       " 'https://debatepolitics.com/threads/fetterman-slams-legal-cases-against-trump-hunter-biden-in-first-truth-social-post-%E2%80%98cases-were-both-bulls%E2%80%94%E2%80%98.557112/',\n",
       " 'https://debatepolitics.com/threads/chip-roy-on-the-outside.557584/',\n",
       " 'https://debatepolitics.com/threads/this-cannot-be-a-possibility-wut.557551/',\n",
       " 'https://debatepolitics.com/threads/how-long-will-president-musk-tolerate-trump-interference.557564/',\n",
       " 'https://debatepolitics.com/threads/rfk-jr-s-lawyer-and-top-ally-asked-fda-to-revoke-approval-of-polio-vaccine.557227/',\n",
       " 'https://debatepolitics.com/threads/promises-made-promises-broken.557136/']"
      ]
     },
     "execution_count": 20,
     "metadata": {},
     "output_type": "execute_result"
    }
   ],
   "source": [
    "# add the base url to the urls:\n",
    "urls = ['https://debatepolitics.com' + url for url in urls]\n",
    "urls"
   ]
  },
  {
   "cell_type": "code",
   "execution_count": 21,
   "id": "8a80cb1a-f674-4edf-a2c2-98ac85af4056",
   "metadata": {},
   "outputs": [
    {
     "data": {
      "text/plain": [
       "[48,\n",
       " 2,\n",
       " 187,\n",
       " 182,\n",
       " 290,\n",
       " 129,\n",
       " 56,\n",
       " 72,\n",
       " 36,\n",
       " 12,\n",
       " 54,\n",
       " 133,\n",
       " 281,\n",
       " 363,\n",
       " 85,\n",
       " 29,\n",
       " 81,\n",
       " 53,\n",
       " 32,\n",
       " 41]"
      ]
     },
     "execution_count": 21,
     "metadata": {},
     "output_type": "execute_result"
    }
   ],
   "source": [
    "# extract number of replies:\n",
    "replies = tree.xpath('//div[@class=\"structItem-cell structItem-cell--meta\"]/dl[1]/dd/text()')\n",
    "# replies = tree.xpath('//div[@class=\"structItem-cell structItem-cell--meta\"]/dl[@class=\"pairs pairs--justified\"]/dd/text()')\n",
    "replies = [reply.strip() for reply in replies]\n",
    "\n",
    "# convert replies to numbers:\n",
    "replies = [int(reply) for reply in replies]\n",
    "replies"
   ]
  },
  {
   "cell_type": "code",
   "execution_count": 33,
   "id": "1d21036b-b8ef-495b-9886-12f9747a1c75",
   "metadata": {},
   "outputs": [
    {
     "data": {
      "text/plain": [
       "['2K',\n",
       " '172',\n",
       " '2K',\n",
       " '2K',\n",
       " '2K',\n",
       " '1K',\n",
       " '774',\n",
       " '937',\n",
       " '587',\n",
       " '298',\n",
       " '531',\n",
       " '2K',\n",
       " '2K',\n",
       " '3K',\n",
       " '872',\n",
       " '331',\n",
       " '749',\n",
       " '528',\n",
       " '483',\n",
       " '454']"
      ]
     },
     "execution_count": 33,
     "metadata": {},
     "output_type": "execute_result"
    }
   ],
   "source": [
    "# extract number of views:\n",
    "views = tree.xpath('//div[@class=\"structItem-cell structItem-cell--meta\"]/dl[2]/dd/text()')\n",
    "views = [view.strip() for view in views]\n",
    "views"
   ]
  },
  {
   "cell_type": "code",
   "execution_count": 35,
   "id": "9cd56f56-9b37-4e14-ac16-65782c4b9e10",
   "metadata": {},
   "outputs": [
    {
     "data": {
      "text/plain": [
       "[2000,\n",
       " 172,\n",
       " 2000,\n",
       " 2000,\n",
       " 2000,\n",
       " 1000,\n",
       " 774,\n",
       " 937,\n",
       " 587,\n",
       " 298,\n",
       " 531,\n",
       " 2000,\n",
       " 2000,\n",
       " 3000,\n",
       " 872,\n",
       " 331,\n",
       " 749,\n",
       " 528,\n",
       " 483,\n",
       " 454]"
      ]
     },
     "execution_count": 35,
     "metadata": {},
     "output_type": "execute_result"
    }
   ],
   "source": [
    "# replace K with 1000:\n",
    "views = [int(view.replace('K', '000')) for view in views]\n",
    "views"
   ]
  },
  {
   "cell_type": "code",
   "execution_count": 37,
   "id": "ae42ec59-3973-4210-bb17-1ed257bbfb38",
   "metadata": {},
   "outputs": [
    {
     "data": {
      "text/html": [
       "<div>\n",
       "<style scoped>\n",
       "    .dataframe tbody tr th:only-of-type {\n",
       "        vertical-align: middle;\n",
       "    }\n",
       "\n",
       "    .dataframe tbody tr th {\n",
       "        vertical-align: top;\n",
       "    }\n",
       "\n",
       "    .dataframe thead th {\n",
       "        text-align: right;\n",
       "    }\n",
       "</style>\n",
       "<table border=\"1\" class=\"dataframe\">\n",
       "  <thead>\n",
       "    <tr style=\"text-align: right;\">\n",
       "      <th></th>\n",
       "      <th>title</th>\n",
       "      <th>url</th>\n",
       "      <th>replies</th>\n",
       "      <th>views</th>\n",
       "    </tr>\n",
       "  </thead>\n",
       "  <tbody>\n",
       "    <tr>\n",
       "      <th>0</th>\n",
       "      <td>For some Latinos, ‘prosperity gospel’ led them...</td>\n",
       "      <td>https://debatepolitics.com/threads/for-some-la...</td>\n",
       "      <td>48</td>\n",
       "      <td>2000</td>\n",
       "    </tr>\n",
       "    <tr>\n",
       "      <th>1</th>\n",
       "      <td>How the GOP is on Self-Destruct</td>\n",
       "      <td>https://debatepolitics.com/threads/how-the-gop...</td>\n",
       "      <td>2</td>\n",
       "      <td>172</td>\n",
       "    </tr>\n",
       "    <tr>\n",
       "      <th>2</th>\n",
       "      <td>Kamala's Been On A Drinking Binge Since Losing</td>\n",
       "      <td>https://debatepolitics.com/threads/kamalas-bee...</td>\n",
       "      <td>187</td>\n",
       "      <td>2000</td>\n",
       "    </tr>\n",
       "    <tr>\n",
       "      <th>3</th>\n",
       "      <td>The Victory</td>\n",
       "      <td>https://debatepolitics.com/threads/the-victory...</td>\n",
       "      <td>182</td>\n",
       "      <td>2000</td>\n",
       "    </tr>\n",
       "    <tr>\n",
       "      <th>4</th>\n",
       "      <td>It Must Really Suck For You People</td>\n",
       "      <td>https://debatepolitics.com/threads/it-must-rea...</td>\n",
       "      <td>290</td>\n",
       "      <td>2000</td>\n",
       "    </tr>\n",
       "  </tbody>\n",
       "</table>\n",
       "</div>"
      ],
      "text/plain": [
       "                                               title  \\\n",
       "0  For some Latinos, ‘prosperity gospel’ led them...   \n",
       "1                    How the GOP is on Self-Destruct   \n",
       "2     Kamala's Been On A Drinking Binge Since Losing   \n",
       "3                                        The Victory   \n",
       "4                 It Must Really Suck For You People   \n",
       "\n",
       "                                                 url  replies  views  \n",
       "0  https://debatepolitics.com/threads/for-some-la...       48   2000  \n",
       "1  https://debatepolitics.com/threads/how-the-gop...        2    172  \n",
       "2  https://debatepolitics.com/threads/kamalas-bee...      187   2000  \n",
       "3  https://debatepolitics.com/threads/the-victory...      182   2000  \n",
       "4  https://debatepolitics.com/threads/it-must-rea...      290   2000  "
      ]
     },
     "execution_count": 37,
     "metadata": {},
     "output_type": "execute_result"
    }
   ],
   "source": [
    "# put them into a dataframe:\n",
    "import pandas as pd\n",
    "df = pd.DataFrame({'title': titles, 'url': urls, 'replies': replies, 'views':views})\n",
    "df.head()"
   ]
  },
  {
   "cell_type": "markdown",
   "id": "ed2a1d4a-e0f6-4f0a-964c-5d397fadefe8",
   "metadata": {},
   "source": [
    "### Putting All Together and Pagination"
   ]
  },
  {
   "cell_type": "code",
   "execution_count": 40,
   "id": "40140f4e-aee8-47e2-8615-6b63bffe9881",
   "metadata": {},
   "outputs": [],
   "source": [
    "# define a function to get thread data:\n",
    "def get_threads(url):\n",
    "    tree = html.fromstring(requests.get(url).content)\n",
    "    titles = tree.xpath('//div[@class=\"structItem-title\"]/a/text()')\n",
    "    urls = ['https://debatepolitics.com' + url for url in tree.xpath('//div[@class=\"structItem-title\"]/a/@href')]\n",
    "    replies = tree.xpath('//div[@class=\"structItem-cell structItem-cell--meta\"]/dl[1]/dd/text()')\n",
    "    replies = [reply.strip() for reply in replies]\n",
    "    replies = [int(reply.replace('K', '000')) for reply in replies]\n",
    "    views = tree.xpath('//div[@class=\"structItem-cell structItem-cell--meta\"]/dl[2]/dd/text()')\n",
    "    views = [view.strip() for view in views]\n",
    "    views = [int(view.replace('K', '000')) for view in views]\n",
    "    return pd.DataFrame({'title': titles, 'url': urls, 'replies': replies, 'views':views})"
   ]
  },
  {
   "cell_type": "code",
   "execution_count": 48,
   "id": "382896e5-f9b4-40bf-a886-46c10b9544b5",
   "metadata": {},
   "outputs": [
    {
     "data": {
      "text/html": [
       "<div>\n",
       "<style scoped>\n",
       "    .dataframe tbody tr th:only-of-type {\n",
       "        vertical-align: middle;\n",
       "    }\n",
       "\n",
       "    .dataframe tbody tr th {\n",
       "        vertical-align: top;\n",
       "    }\n",
       "\n",
       "    .dataframe thead th {\n",
       "        text-align: right;\n",
       "    }\n",
       "</style>\n",
       "<table border=\"1\" class=\"dataframe\">\n",
       "  <thead>\n",
       "    <tr style=\"text-align: right;\">\n",
       "      <th></th>\n",
       "      <th>title</th>\n",
       "      <th>url</th>\n",
       "      <th>replies</th>\n",
       "      <th>views</th>\n",
       "    </tr>\n",
       "  </thead>\n",
       "  <tbody>\n",
       "    <tr>\n",
       "      <th>0</th>\n",
       "      <td>For some Latinos, ‘prosperity gospel’ led them...</td>\n",
       "      <td>https://debatepolitics.com/threads/for-some-la...</td>\n",
       "      <td>48</td>\n",
       "      <td>2000</td>\n",
       "    </tr>\n",
       "    <tr>\n",
       "      <th>1</th>\n",
       "      <td>How the GOP is on Self-Destruct</td>\n",
       "      <td>https://debatepolitics.com/threads/how-the-gop...</td>\n",
       "      <td>2</td>\n",
       "      <td>172</td>\n",
       "    </tr>\n",
       "    <tr>\n",
       "      <th>2</th>\n",
       "      <td>Kamala's Been On A Drinking Binge Since Losing</td>\n",
       "      <td>https://debatepolitics.com/threads/kamalas-bee...</td>\n",
       "      <td>187</td>\n",
       "      <td>2000</td>\n",
       "    </tr>\n",
       "    <tr>\n",
       "      <th>3</th>\n",
       "      <td>The Victory</td>\n",
       "      <td>https://debatepolitics.com/threads/the-victory...</td>\n",
       "      <td>182</td>\n",
       "      <td>2000</td>\n",
       "    </tr>\n",
       "    <tr>\n",
       "      <th>4</th>\n",
       "      <td>It Must Really Suck For You People</td>\n",
       "      <td>https://debatepolitics.com/threads/it-must-rea...</td>\n",
       "      <td>290</td>\n",
       "      <td>2000</td>\n",
       "    </tr>\n",
       "    <tr>\n",
       "      <th>...</th>\n",
       "      <td>...</td>\n",
       "      <td>...</td>\n",
       "      <td>...</td>\n",
       "      <td>...</td>\n",
       "    </tr>\n",
       "    <tr>\n",
       "      <th>95</th>\n",
       "      <td>Going monk on MAGA</td>\n",
       "      <td>https://debatepolitics.com/threads/going-monk-...</td>\n",
       "      <td>41</td>\n",
       "      <td>469</td>\n",
       "    </tr>\n",
       "    <tr>\n",
       "      <th>96</th>\n",
       "      <td>When Hillary And Harris Lost</td>\n",
       "      <td>https://debatepolitics.com/threads/when-hillar...</td>\n",
       "      <td>22</td>\n",
       "      <td>255</td>\n",
       "    </tr>\n",
       "    <tr>\n",
       "      <th>97</th>\n",
       "      <td>Trump is expected to tap RFK for the head of HHS</td>\n",
       "      <td>https://debatepolitics.com/threads/trump-is-ex...</td>\n",
       "      <td>140</td>\n",
       "      <td>1000</td>\n",
       "    </tr>\n",
       "    <tr>\n",
       "      <th>98</th>\n",
       "      <td>Vance is a jerk</td>\n",
       "      <td>https://debatepolitics.com/threads/vance-is-a-...</td>\n",
       "      <td>112</td>\n",
       "      <td>1000</td>\n",
       "    </tr>\n",
       "    <tr>\n",
       "      <th>99</th>\n",
       "      <td>Trump Economics</td>\n",
       "      <td>https://debatepolitics.com/threads/trump-econo...</td>\n",
       "      <td>24</td>\n",
       "      <td>283</td>\n",
       "    </tr>\n",
       "  </tbody>\n",
       "</table>\n",
       "<p>100 rows × 4 columns</p>\n",
       "</div>"
      ],
      "text/plain": [
       "                                                title  \\\n",
       "0   For some Latinos, ‘prosperity gospel’ led them...   \n",
       "1                     How the GOP is on Self-Destruct   \n",
       "2      Kamala's Been On A Drinking Binge Since Losing   \n",
       "3                                         The Victory   \n",
       "4                  It Must Really Suck For You People   \n",
       "..                                                ...   \n",
       "95                                 Going monk on MAGA   \n",
       "96                       When Hillary And Harris Lost   \n",
       "97   Trump is expected to tap RFK for the head of HHS   \n",
       "98                                    Vance is a jerk   \n",
       "99                                    Trump Economics   \n",
       "\n",
       "                                                  url replies views  \n",
       "0   https://debatepolitics.com/threads/for-some-la...      48  2000  \n",
       "1   https://debatepolitics.com/threads/how-the-gop...       2   172  \n",
       "2   https://debatepolitics.com/threads/kamalas-bee...     187  2000  \n",
       "3   https://debatepolitics.com/threads/the-victory...     182  2000  \n",
       "4   https://debatepolitics.com/threads/it-must-rea...     290  2000  \n",
       "..                                                ...     ...   ...  \n",
       "95  https://debatepolitics.com/threads/going-monk-...      41   469  \n",
       "96  https://debatepolitics.com/threads/when-hillar...      22   255  \n",
       "97  https://debatepolitics.com/threads/trump-is-ex...     140  1000  \n",
       "98  https://debatepolitics.com/threads/vance-is-a-...     112  1000  \n",
       "99  https://debatepolitics.com/threads/trump-econo...      24   283  \n",
       "\n",
       "[100 rows x 4 columns]"
      ]
     },
     "execution_count": 48,
     "metadata": {},
     "output_type": "execute_result"
    }
   ],
   "source": [
    "# Using the function to get more than 33 pages:\n",
    "threads = pd.DataFrame(columns=['title','url','replies','views'])\n",
    "for i in range(1, 34):\n",
    "    url = 'https://debatepolitics.com/forums/2024-us-presidential-election.227/page-'+str(i)\n",
    "    threads = pd.concat([threads, get_threads(url)], ignore_index=True)\n",
    "threads.head(100)\n",
    "\n",
    "# This example is actually a special case, because it follows the pattern of page-1, page-2, page-3, which can be relatively easily coded.  "
   ]
  },
  {
   "cell_type": "code",
   "execution_count": 44,
   "id": "686f192f-aa90-42e5-854e-e28e7671dd45",
   "metadata": {},
   "outputs": [
    {
     "data": {
      "image/png": "[encoded data removed]",
      "text/plain": [
       "<Figure size 640x480 with 1 Axes>"
      ]
     },
     "metadata": {},
     "output_type": "display_data"
    }
   ],
   "source": [
    "# using matplotlib to plot the data:\n",
    "import matplotlib.pyplot as plt\n",
    "plt.scatter(threads['replies'], threads['views'])\n",
    "plt.xlabel('replies')\n",
    "plt.ylabel('views')\n",
    "plt.show()"
   ]
  },
  {
   "cell_type": "code",
   "execution_count": 54,
   "id": "15e99bfb-2623-44a8-b6dc-3fe62a9b0448",
   "metadata": {},
   "outputs": [],
   "source": [
    "threads.to_csv('/Users/kaiyang/Desktop/threads.csv', index=False)"
   ]
  },
  {
   "cell_type": "code",
   "execution_count": null,
   "id": "7232dff7-abf9-49ba-8901-0db978082cf6",
   "metadata": {},
   "outputs": [],
   "source": [
    "The end!"
   ]
  }
 ],
 "metadata": {
  "kernelspec": {
   "display_name": "Python [conda env:base] *",
   "language": "python",
   "name": "conda-base-py"
  },
  "language_info": {
   "codemirror_mode": {
    "name": "ipython",
    "version": 3
   },
   "file_extension": ".py",
   "mimetype": "text/x-python",
   "name": "python",
   "nbconvert_exporter": "python",
   "pygments_lexer": "ipython3",
   "version": "3.12.7"
  }
 },
 "nbformat": 4,
 "nbformat_minor": 5
}
